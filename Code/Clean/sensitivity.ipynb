{
 "cells": [
  {
   "cell_type": "code",
   "execution_count": 1,
   "metadata": {
    "collapsed": true
   },
   "outputs": [],
   "source": [
    "import matplotlib\n",
    "import matplotlib.pyplot as plt\n",
    "%matplotlib inline\n",
    "\n",
    "from tqdm import tqdm\n",
    "\n",
    "from model import SchellingModel\n",
    "from mesa.batchrunner import BatchRunner\n",
    "\n",
    "from SALib.sample import saltelli\n",
    "from SALib.analyze import sobol\n",
    "from SALib.test_functions import Ishigami\n",
    "import numpy as np\n",
    "import math"
   ]
  },
  {
   "cell_type": "code",
   "execution_count": 2,
   "metadata": {},
   "outputs": [
    {
     "name": "stderr",
     "output_type": "stream",
     "text": [
      "1200it [9:04:06, 62.85s/it] \n"
     ]
    }
   ],
   "source": [
    "# Define the model inputs\n",
    "n = 3\n",
    "problem = {\n",
    "    'num_vars': n,\n",
    "    'names': ['mobil', 'var', 'd_factor'],\n",
    "    'bounds': [[0.001, 0.1],\n",
    "               [0.005, 0.1]\n",
    "               [0.000, 2.0]]\n",
    "}\n",
    "\n",
    "# Generate samples\n",
    "param_values = saltelli.sample(problem, 200)\n",
    "\n",
    "Y = np.zeros([param_values.shape[0]])\n",
    "\n",
    "with tqdm(param_values.size, disable=False) as pbar:\n",
    "    for i, X in enumerate(param_values):\n",
    "        model = SchellingModel(25, 25, 0.0015, X[0], 0.50, X[1], X[2])\n",
    "        while model.running:\n",
    "            model.step()\n",
    "        Y[i] = model.gent_time\n",
    "        pbar.update()\n"
   ]
  },
  {
   "cell_type": "code",
   "execution_count": 7,
   "metadata": {
    "collapsed": true
   },
   "outputs": [],
   "source": [
    "#use feasible solutions\n",
    "A = np.array()\n",
    "for i in range(0,Y.size,2*n+2):\n",
    "    if not math.isnan(sum(Y[i:i+2*n+2])):\n",
    "        A = np.append(A, Y[i:i+2*n+2])"
   ]
  },
  {
   "cell_type": "code",
   "execution_count": 9,
   "metadata": {},
   "outputs": [
    {
     "name": "stdout",
     "output_type": "stream",
     "text": [
      "Parameter S1 S1_conf ST ST_conf\n",
      "mobil 0.423541 0.284979 0.966683 0.182748\n",
      "var 0.132475 0.118925 0.589026 0.324706\n",
      "\n",
      "Parameter_1 Parameter_2 S2 S2_conf\n",
      "mobil var 0.695842 0.903028\n",
      "[ 0.4235406   0.13247543]\n"
     ]
    }
   ],
   "source": [
    "# Perform analysis\n",
    "Si = sobol.analyze(problem, Y, print_to_console=True)\n",
    "\n",
    "# Print the first-order sensitivity indices\n",
    "print(Si['S1'])"
   ]
  }
 ],
 "metadata": {
  "kernelspec": {
   "display_name": "Python 3",
   "language": "python",
   "name": "python3"
  },
  "language_info": {
   "codemirror_mode": {
    "name": "ipython",
    "version": 3
   },
   "file_extension": ".py",
   "mimetype": "text/x-python",
   "name": "python",
   "nbconvert_exporter": "python",
   "pygments_lexer": "ipython3",
   "version": "3.6.1"
  }
 },
 "nbformat": 4,
 "nbformat_minor": 2
}
