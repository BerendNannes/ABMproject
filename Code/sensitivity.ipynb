{
 "cells": [
  {
   "cell_type": "code",
   "execution_count": 4,
   "metadata": {
    "collapsed": true
   },
   "outputs": [],
   "source": [
    "import matplotlib\n",
    "import matplotlib.pyplot as plt\n",
    "%matplotlib inline\n",
    "\n",
    "from tqdm import tqdm\n",
    "\n",
    "from model import GentrificationModel\n",
    "from mesa.batchrunner import BatchRunner\n",
    "\n",
    "from SALib.sample import saltelli\n",
    "from SALib.analyze import sobol\n",
    "from SALib.test_functions import Ishigami\n",
    "import numpy as np\n",
    "import math"
   ]
  },
  {
   "cell_type": "code",
   "execution_count": null,
   "metadata": {},
   "outputs": [
    {
     "name": "stderr",
     "output_type": "stream",
     "text": [
      "\r",
      "0it [00:00, ?it/s]"
     ]
    }
   ],
   "source": [
    "# Define the model inputs\n",
    "n = 3\n",
    "problem = {\n",
    "    'num_vars': n,\n",
    "    'names': ['mobil', 'var', 'd_factor'],\n",
    "    'bounds': [[0.001, 0.1],\n",
    "               [0.001, 0.1],\n",
    "               [0.000, 2.0]]\n",
    "}\n",
    "\n",
    "# Generate samples\n",
    "param_values = saltelli.sample(problem, 200)\n",
    "\n",
    "Y = np.zeros([param_values.shape[0]])\n",
    "\n",
    "with tqdm(param_values.size, disable=False) as pbar:\n",
    "    for i, X in enumerate(param_values):\n",
    "        model = GentrificationModel(25, 25, 0.0015, X[0], 0.50, X[1], X[2])\n",
    "        while model.running:\n",
    "            model.step()\n",
    "        Y[i] = model.gent_time\n",
    "        pbar.update()\n"
   ]
  },
  {
   "cell_type": "code",
   "execution_count": null,
   "metadata": {
    "collapsed": true
   },
   "outputs": [],
   "source": [
    "#use feasible solutions\n",
    "A = np.array([])\n",
    "for i in range(0,Y.size,2*n+2):\n",
    "    if not math.isnan(sum(Y[i:i+2*n+2])):\n",
    "        A = np.append(A, Y[i:i+2*n+2])"
   ]
  },
  {
   "cell_type": "code",
   "execution_count": null,
   "metadata": {
    "collapsed": true
   },
   "outputs": [],
   "source": [
    "# Perform analysis\n",
    "Si = sobol.analyze(problem, A, print_to_console=True)\n",
    "\n",
    "# Print the first-order sensitivity indices\n",
    "print(Si['S1'])"
   ]
  },
  {
   "cell_type": "code",
   "execution_count": null,
   "metadata": {
    "collapsed": true
   },
   "outputs": [],
   "source": []
  }
 ],
 "metadata": {
  "kernelspec": {
   "display_name": "Python 3",
   "language": "python",
   "name": "python3"
  },
  "language_info": {
   "codemirror_mode": {
    "name": "ipython",
    "version": 3
   },
   "file_extension": ".py",
   "mimetype": "text/x-python",
   "name": "python",
   "nbconvert_exporter": "python",
   "pygments_lexer": "ipython3",
   "version": "3.6.1"
  }
 },
 "nbformat": 4,
 "nbformat_minor": 2
}
