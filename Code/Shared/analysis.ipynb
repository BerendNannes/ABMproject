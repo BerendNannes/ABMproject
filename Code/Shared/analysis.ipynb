{
 "cells": [
  {
   "cell_type": "markdown",
   "metadata": {},
   "source": [
    "# Schelling Segregation Model\n",
    "\n",
    "## Background\n",
    "\n",
    "The Schelling (1971) segregation model is a classic of agent-based modeling, demonstrating how agents following simple rules lead to the emergence of qualitatively different macro-level outcomes. Agents are randomly placed on a grid. There are two types of agents, one constituting the majority and the other the minority. All agents want a certain number (generally, 3) of their 8 surrounding neighbors to be of the same type in order for them to be happy. Unhappy agents will move to a random available grid space. While individual agents do not have a preference for a segregated outcome (e.g. they would be happy with 3 similar neighbors and 5 different ones), the aggregate outcome is nevertheless heavily segregated.\n",
    "\n",
    "## Implementation\n",
    "\n",
    "This is a demonstration of running a Mesa model in an IPython Notebook. The actual model and agent code are implemented in Schelling.py, in the same directory as this notebook. Below, we will import the model class, instantiate it, run it, and plot the time series of the number of happy agents."
   ]
  },
  {
   "cell_type": "code",
   "execution_count": 55,
   "metadata": {
    "collapsed": true
   },
   "outputs": [],
   "source": [
    "import matplotlib\n",
    "import matplotlib.pyplot as plt\n",
    "%matplotlib inline\n",
    "\n",
    "from model import SchellingModel\n",
    "from SALib.sample import saltelli\n",
    "import numpy as np\n",
    "import math\n",
    "\n",
    "import pandas as pd"
   ]
  },
  {
   "cell_type": "markdown",
   "metadata": {},
   "source": [
    "Now we instantiate a model instance: a 10x10 grid, with an 80% change of an agent being placed in each cell, approximately 20% of agents set as minorities, and agents wanting at least 3 similar neighbors."
   ]
  },
  {
   "cell_type": "code",
   "execution_count": 2,
   "metadata": {
    "collapsed": true
   },
   "outputs": [],
   "source": [
    "model = SchellingModel(25, 25, 0.0015, 0.025, 0.50, 0.005,0.5)"
   ]
  },
  {
   "cell_type": "markdown",
   "metadata": {},
   "source": [
    "We want to run the model until all the agents are happy with where they are. However, there's no guarentee that a given model instantiation will *ever* settle down. So let's run it for either 100 steps or until it stops on its own, whichever comes first:"
   ]
  },
  {
   "cell_type": "code",
   "execution_count": 3,
   "metadata": {},
   "outputs": [
    {
     "name": "stdout",
     "output_type": "stream",
     "text": [
      "652\n"
     ]
    }
   ],
   "source": [
    "while model.running and model.schedule.steps < 3000:\n",
    "    model.step()\n",
    "print(model.schedule.steps) # Show how many steps have actually run"
   ]
  },
  {
   "cell_type": "markdown",
   "metadata": {},
   "source": [
    "The model has a DataCollector object, which checks and stores how many agents are happy at the end of each step. It can also generate a pandas DataFrame of the data it has collected:"
   ]
  },
  {
   "cell_type": "code",
   "execution_count": 4,
   "metadata": {
    "collapsed": true
   },
   "outputs": [],
   "source": [
    "model_out = model.datacollector.get_model_vars_dataframe()"
   ]
  },
  {
   "cell_type": "code",
   "execution_count": 5,
   "metadata": {},
   "outputs": [
    {
     "data": {
      "text/html": [
       "<div>\n",
       "<style>\n",
       "    .dataframe thead tr:only-child th {\n",
       "        text-align: right;\n",
       "    }\n",
       "\n",
       "    .dataframe thead th {\n",
       "        text-align: left;\n",
       "    }\n",
       "\n",
       "    .dataframe tbody tr th {\n",
       "        vertical-align: top;\n",
       "    }\n",
       "</style>\n",
       "<table border=\"1\" class=\"dataframe\">\n",
       "  <thead>\n",
       "    <tr style=\"text-align: right;\">\n",
       "      <th></th>\n",
       "      <th>condition</th>\n",
       "      <th>income</th>\n",
       "      <th>state</th>\n",
       "      <th>status</th>\n",
       "    </tr>\n",
       "  </thead>\n",
       "  <tbody>\n",
       "    <tr>\n",
       "      <th>0</th>\n",
       "      <td>0.503036</td>\n",
       "      <td>0.489480</td>\n",
       "      <td>0.496258</td>\n",
       "      <td>0.478190</td>\n",
       "    </tr>\n",
       "    <tr>\n",
       "      <th>1</th>\n",
       "      <td>0.502533</td>\n",
       "      <td>0.478352</td>\n",
       "      <td>0.490443</td>\n",
       "      <td>0.458799</td>\n",
       "    </tr>\n",
       "    <tr>\n",
       "      <th>2</th>\n",
       "      <td>0.502839</td>\n",
       "      <td>0.477366</td>\n",
       "      <td>0.490103</td>\n",
       "      <td>0.460993</td>\n",
       "    </tr>\n",
       "    <tr>\n",
       "      <th>3</th>\n",
       "      <td>0.502015</td>\n",
       "      <td>0.475826</td>\n",
       "      <td>0.488921</td>\n",
       "      <td>0.461247</td>\n",
       "    </tr>\n",
       "    <tr>\n",
       "      <th>4</th>\n",
       "      <td>0.501934</td>\n",
       "      <td>0.480105</td>\n",
       "      <td>0.491019</td>\n",
       "      <td>0.459852</td>\n",
       "    </tr>\n",
       "  </tbody>\n",
       "</table>\n",
       "</div>"
      ],
      "text/plain": [
       "   condition    income     state    status\n",
       "0   0.503036  0.489480  0.496258  0.478190\n",
       "1   0.502533  0.478352  0.490443  0.458799\n",
       "2   0.502839  0.477366  0.490103  0.460993\n",
       "3   0.502015  0.475826  0.488921  0.461247\n",
       "4   0.501934  0.480105  0.491019  0.459852"
      ]
     },
     "execution_count": 5,
     "metadata": {},
     "output_type": "execute_result"
    }
   ],
   "source": [
    "model_out.head()"
   ]
  },
  {
   "cell_type": "markdown",
   "metadata": {},
   "source": [
    "Finally, we can plot the 'happy' series:"
   ]
  },
  {
   "cell_type": "code",
   "execution_count": 6,
   "metadata": {},
   "outputs": [
    {
     "data": {
      "text/plain": [
       "<matplotlib.collections.PathCollection at 0x7f4751f878d0>"
      ]
     },
     "execution_count": 6,
     "metadata": {},
     "output_type": "execute_result"
    },
    {
     "data": {
      "image/png": "[encoded data removed]",
      "text/plain": [
       "<matplotlib.figure.Figure at 0x7f47844a34e0>"
      ]
     },
     "metadata": {},
     "output_type": "display_data"
    }
   ],
   "source": [
    "model_out.status.plot()\n",
    "model_out.state.plot()\n",
    "plt.scatter(model.last_bottom,0)"
   ]
  },
  {
   "cell_type": "markdown",
   "metadata": {},
   "source": [
    "For testing purposes, here is a table giving each agent's x and y values at each step."
   ]
  },
  {
   "cell_type": "code",
   "execution_count": 7,
   "metadata": {},
   "outputs": [
    {
     "data": {
      "text/plain": [
       "25.833333333333332"
      ]
     },
     "execution_count": 7,
     "metadata": {},
     "output_type": "execute_result"
    }
   ],
   "source": [
    "model.gent_time"
   ]
  },
  {
   "cell_type": "code",
   "execution_count": 8,
   "metadata": {
    "collapsed": true
   },
   "outputs": [],
   "source": [
    "x_positions = model.datacollector.get_agent_vars_dataframe()"
   ]
  },
  {
   "cell_type": "code",
   "execution_count": 9,
   "metadata": {},
   "outputs": [
    {
     "data": {
      "text/html": [
       "<div>\n",
       "<style>\n",
       "    .dataframe thead tr:only-child th {\n",
       "        text-align: right;\n",
       "    }\n",
       "\n",
       "    .dataframe thead th {\n",
       "        text-align: left;\n",
       "    }\n",
       "\n",
       "    .dataframe tbody tr th {\n",
       "        vertical-align: top;\n",
       "    }\n",
       "</style>\n",
       "<table border=\"1\" class=\"dataframe\">\n",
       "  <thead>\n",
       "    <tr style=\"text-align: right;\">\n",
       "      <th></th>\n",
       "      <th></th>\n",
       "      <th>x</th>\n",
       "      <th>y</th>\n",
       "    </tr>\n",
       "    <tr>\n",
       "      <th>Step</th>\n",
       "      <th>AgentID</th>\n",
       "      <th></th>\n",
       "      <th></th>\n",
       "    </tr>\n",
       "  </thead>\n",
       "  <tbody>\n",
       "    <tr>\n",
       "      <th rowspan=\"5\" valign=\"top\">0</th>\n",
       "      <th>(0, 0)</th>\n",
       "      <td>12</td>\n",
       "      <td>2</td>\n",
       "    </tr>\n",
       "    <tr>\n",
       "      <th>(0, 1)</th>\n",
       "      <td>16</td>\n",
       "      <td>7</td>\n",
       "    </tr>\n",
       "    <tr>\n",
       "      <th>(0, 2)</th>\n",
       "      <td>11</td>\n",
       "      <td>19</td>\n",
       "    </tr>\n",
       "    <tr>\n",
       "      <th>(0, 3)</th>\n",
       "      <td>8</td>\n",
       "      <td>5</td>\n",
       "    </tr>\n",
       "    <tr>\n",
       "      <th>(0, 4)</th>\n",
       "      <td>14</td>\n",
       "      <td>14</td>\n",
       "    </tr>\n",
       "  </tbody>\n",
       "</table>\n",
       "</div>"
      ],
      "text/plain": [
       "               x   y\n",
       "Step AgentID        \n",
       "0    (0, 0)   12   2\n",
       "     (0, 1)   16   7\n",
       "     (0, 2)   11  19\n",
       "     (0, 3)    8   5\n",
       "     (0, 4)   14  14"
      ]
     },
     "execution_count": 9,
     "metadata": {},
     "output_type": "execute_result"
    }
   ],
   "source": [
    "x_positions.head()"
   ]
  },
  {
   "cell_type": "markdown",
   "metadata": {},
   "source": [
    "# Effect of Homophily on segregation\n",
    "\n",
    "Now, we can do a parameter sweep to see how segregation changes with homophily.\n",
    "\n",
    "First, we create a function which takes a model instance and returns what fraction of agents are segregated -- that is, have no neighbors of the opposite type."
   ]
  },
  {
   "cell_type": "code",
   "execution_count": 10,
   "metadata": {
    "collapsed": true
   },
   "outputs": [],
   "source": [
    "from mesa.batchrunner import BatchRunner"
   ]
  },
  {
   "cell_type": "code",
   "execution_count": 11,
   "metadata": {
    "collapsed": true
   },
   "outputs": [],
   "source": [
    "def get_gent_time(model):\n",
    "    return model.gent_time"
   ]
  },
  {
   "cell_type": "markdown",
   "metadata": {},
   "source": [
    "Now, we set up the batch run, with a dictionary of fixed and changing parameters. Let's hold everything fixed except for Homophily."
   ]
  },
  {
   "cell_type": "code",
   "execution_count": 12,
   "metadata": {
    "collapsed": true
   },
   "outputs": [],
   "source": [
    "#fixed_params = {\"height\": 25, \"width\": 25, \"depreciation_rate\": 0.0015, \"stat_var\": 0.02, \"status\": 0.5} \n",
    "variable_parms = {\"d_factor\": np.linspace(0.00, 2., 20)}\n",
    "parms = {\"height\": 25, \"width\": 25, \"depreciation_rate\": 0.0015,\"mobility\": 0.02, \"status\": 0.5, \"stat_var\": 0.010}"
   ]
  },
  {
   "cell_type": "code",
   "execution_count": 13,
   "metadata": {
    "collapsed": true
   },
   "outputs": [],
   "source": [
    "model_reporters = {\"Gentrification time\": get_gent_time}"
   ]
  },
  {
   "cell_type": "code",
   "execution_count": 14,
   "metadata": {
    "collapsed": true
   },
   "outputs": [],
   "source": [
    "param_sweep = BatchRunner(SchellingModel, \n",
    "                          variable_parameters=variable_parms, \n",
    "                          fixed_parameters=parms,\n",
    "                          iterations=50, \n",
    "                          max_steps=3000,\n",
    "                          model_reporters=model_reporters)"
   ]
  },
  {
   "cell_type": "code",
   "execution_count": 15,
   "metadata": {},
   "outputs": [
    {
     "name": "stderr",
     "output_type": "stream",
     "text": [
      "1000it [8:39:53, 36.73s/it]\n"
     ]
    }
   ],
   "source": [
    "param_sweep.run_all()"
   ]
  },
  {
   "cell_type": "code",
   "execution_count": 16,
   "metadata": {
    "collapsed": true
   },
   "outputs": [],
   "source": [
    "df = param_sweep.get_model_vars_dataframe()"
   ]
  },
  {
   "cell_type": "code",
   "execution_count": 17,
   "metadata": {},
   "outputs": [
    {
     "data": {
      "image/png": "[encoded data removed]",
      "text/plain": [
       "<matplotlib.figure.Figure at 0x7f473c2f4588>"
      ]
     },
     "metadata": {},
     "output_type": "display_data"
    }
   ],
   "source": [
    "plt.scatter(df.d_factor, df[\"Gentrification time\"])\n",
    "plt.ylabel('Gentrification time')\n",
    "plt.xlabel('d factor')\n",
    "plt.grid(True)"
   ]
  },
  {
   "cell_type": "code",
   "execution_count": 61,
   "metadata": {
    "collapsed": true
   },
   "outputs": [],
   "source": [
    "#save dataframe\n",
    "df.to_pickle(\"data/d_factor_runs.pkl\")"
   ]
  },
  {
   "cell_type": "code",
   "execution_count": 50,
   "metadata": {},
   "outputs": [
    {
     "data": {
      "image/png": "[encoded data removed]",
      "text/plain": [
       "<matplotlib.figure.Figure at 0x7f4736ac06d8>"
      ]
     },
     "metadata": {},
     "output_type": "display_data"
    }
   ],
   "source": [
    "gent_times = np.array(df['Gentrification time']).reshape(20,50)\n",
    "\n",
    "means = np.zeros(20)\n",
    "confs = np.zeros(20)\n",
    "for n in range(20):\n",
    "    times = gent_times[n,:][~np.isnan(gent_times[n,:])]\n",
    "    means[n] = np.sum(times) / times.size\n",
    "    S = np.sqrt(np.sum((times-means[n])**2) / (times.size-1))\n",
    "    confs[n] = 1.96*S / np.sqrt(times.size)\n",
    "\n",
    "plt.errorbar(np.linspace(0.00, 2., 20),means,confs,fmt=\"o\")\n",
    "plt.ylabel('Gentrification time')\n",
    "plt.xlabel('d factor')\n",
    "plt.grid(True)"
   ]
  },
  {
   "cell_type": "code",
   "execution_count": 62,
   "metadata": {},
   "outputs": [
    {
     "name": "stdout",
     "output_type": "stream",
     "text": [
      "     d_factor  Run  Gentrification time\n",
      "0         0.0    0            35.083333\n",
      "1         0.0    1            20.833333\n",
      "2         0.0    2            32.166667\n",
      "3         0.0    3            33.416667\n",
      "4         0.0    4            21.500000\n",
      "5         0.0    5            27.083333\n",
      "6         0.0    6                  NaN\n",
      "7         0.0    7            29.500000\n",
      "8         0.0    8            26.833333\n",
      "9         0.0    9            25.666667\n",
      "10        0.0   10            32.750000\n",
      "11        0.0   11            20.000000\n",
      "12        0.0   12            25.666667\n",
      "13        0.0   13            27.416667\n",
      "14        0.0   14            21.666667\n",
      "15        0.0   15            25.500000\n",
      "16        0.0   16            23.416667\n",
      "17        0.0   17            35.916667\n",
      "18        0.0   18            23.916667\n",
      "19        0.0   19            47.500000\n",
      "20        0.0   20            28.500000\n",
      "21        0.0   21            23.833333\n",
      "22        0.0   22            32.500000\n",
      "23        0.0   23            30.500000\n",
      "24        0.0   24            23.250000\n",
      "25        0.0   25            21.916667\n",
      "26        0.0   26            23.333333\n",
      "27        0.0   27            23.166667\n",
      "28        0.0   28            21.666667\n",
      "29        0.0   29            29.666667\n",
      "..        ...  ...                  ...\n",
      "970       2.0  970            38.000000\n",
      "971       2.0  971            37.083333\n",
      "972       2.0  972            23.833333\n",
      "973       2.0  973            22.416667\n",
      "974       2.0  974            22.250000\n",
      "975       2.0  975            31.916667\n",
      "976       2.0  976            27.250000\n",
      "977       2.0  977            19.333333\n",
      "978       2.0  978            29.916667\n",
      "979       2.0  979            23.916667\n",
      "980       2.0  980            26.416667\n",
      "981       2.0  981            26.000000\n",
      "982       2.0  982            26.083333\n",
      "983       2.0  983            58.833333\n",
      "984       2.0  984            23.000000\n",
      "985       2.0  985            28.833333\n",
      "986       2.0  986            33.583333\n",
      "987       2.0  987            21.833333\n",
      "988       2.0  988            23.083333\n",
      "989       2.0  989            32.416667\n",
      "990       2.0  990            24.916667\n",
      "991       2.0  991            19.750000\n",
      "992       2.0  992            21.916667\n",
      "993       2.0  993            29.583333\n",
      "994       2.0  994            21.750000\n",
      "995       2.0  995            37.083333\n",
      "996       2.0  996            27.083333\n",
      "997       2.0  997            22.166667\n",
      "998       2.0  998            30.083333\n",
      "999       2.0  999            20.416667\n",
      "\n",
      "[1000 rows x 3 columns]\n"
     ]
    }
   ],
   "source": [
    "new_df = pd.read_pickle(\"data/d_factor_runs.pkl\")\n",
    "print(new_df)"
   ]
  }
 ],
 "metadata": {
  "kernelspec": {
   "display_name": "Python [default]",
   "language": "python",
   "name": "python3"
  },
  "language_info": {
   "codemirror_mode": {
    "name": "ipython",
    "version": 3
   },
   "file_extension": ".py",
   "mimetype": "text/x-python",
   "name": "python",
   "nbconvert_exporter": "python",
   "pygments_lexer": "ipython3",
   "version": "3.6.3"
  },
  "widgets": {
   "state": {},
   "version": "1.1.2"
  }
 },
 "nbformat": 4,
 "nbformat_minor": 1
}
