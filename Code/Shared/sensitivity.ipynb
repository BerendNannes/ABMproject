{
 "cells": [
  {
   "cell_type": "code",
   "execution_count": 1,
   "metadata": {
    "collapsed": true
   },
   "outputs": [],
   "source": [
    "import matplotlib\n",
    "import matplotlib.pyplot as plt\n",
    "%matplotlib inline\n",
    "\n",
    "from tqdm import tqdm\n",
    "\n",
    "from model import SchellingModel\n",
    "from mesa.batchrunner import BatchRunner\n",
    "\n",
    "from SALib.sample import saltelli\n",
    "from SALib.analyze import sobol\n",
    "from SALib.test_functions import Ishigami\n",
    "import numpy as np\n",
    "import math"
   ]
  },
  {
   "cell_type": "code",
   "execution_count": 2,
   "metadata": {},
   "outputs": [],
   "source": [
    "# Define the model inputs\n",
    "n = 2\n",
    "problem = {\n",
    "    'num_vars': n,\n",
    "    'names': ['mobil', 'var'],\n",
    "    'bounds': [[0.01, 0.05],\n",
    "               [0.005, 0.05]]\n",
    "}\n",
    "\n",
    "# Generate samples\n",
    "param_values = saltelli.sample(problem, 10)\n",
    "\n",
    "Y = np.zeros([param_values.shape[0]])\n",
    "\n",
    "with tqdm(param_values.size, disable=False) as pbar:\n",
    "    for i, X in enumerate(param_values):\n",
    "        model = SchellingModel(25, 25, 0.0015, X[0], 0.50, X[1], 0)\n",
    "        while model.running:\n",
    "            model.step()\n",
    "        Y[i] = model.gent_time\n",
    "        pbar.update()\n"
   ]
  },
  {
   "cell_type": "code",
   "execution_count": 14,
   "metadata": {
    "collapsed": true
   },
   "outputs": [],
   "source": [
    "# remove infeasible solutions\n",
    "for i in range(0,Y.size,2*n+2):\n",
    "    if math.isnan(sum(Y[i:i+2*n+2])):\n",
    "        Y = np.delete(Y,range(i,i+2*n+2))"
   ]
  },
  {
   "cell_type": "code",
   "execution_count": 4,
   "metadata": {},
   "outputs": [
    {
     "name": "stdout",
     "output_type": "stream",
     "text": [
      "Parameter S1 S1_conf ST ST_conf\n",
      "mobil -0.102040 0.246051 0.993761 0.363719\n",
      "var 0.552783 0.301674 1.247006 0.483292\n",
      "\n",
      "Parameter_1 Parameter_2 S2 S2_conf\n",
      "mobil var -0.352434 0.411353\n",
      "[-0.10204005  0.55278318]\n"
     ]
    }
   ],
   "source": [
    "# Perform analysis\n",
    "Si = sobol.analyze(problem, Y, print_to_console=True)\n",
    "\n",
    "# Print the first-order sensitivity indices\n",
    "print(Si['S1'])"
   ]
  },
  {
   "cell_type": "code",
   "execution_count": null,
   "metadata": {
    "collapsed": true
   },
   "outputs": [],
   "source": []
  }
 ],
 "metadata": {
  "kernelspec": {
   "display_name": "Python 3",
   "language": "python",
   "name": "python3"
  },
  "language_info": {
   "codemirror_mode": {
    "name": "ipython",
    "version": 3
   },
   "file_extension": ".py",
   "mimetype": "text/x-python",
   "name": "python",
   "nbconvert_exporter": "python",
   "pygments_lexer": "ipython3",
   "version": "3.6.1"
  }
 },
 "nbformat": 4,
 "nbformat_minor": 2
}
